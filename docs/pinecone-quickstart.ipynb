{
  "cells": [
    {
      "cell_type": "markdown",
      "metadata": {
        "id": "view-in-github",
        "colab_type": "text"
      },
      "source": [
        "<a href=\"https://colab.research.google.com/github/jada9879/docker/blob/main/docs/pinecone-quickstart.ipynb\" target=\"_parent\"><img src=\"https://colab.research.google.com/assets/colab-badge.svg\" alt=\"Open In Colab\"/></a>"
      ]
    },
    {
      "cell_type": "markdown",
      "metadata": {
        "id": "8KNEuM_G83vi"
      },
      "source": [
        "[![Open In Colab](https://colab.research.google.com/assets/colab-badge.svg)](https://colab.research.google.com/github/pinecone-io/examples/blob/master/docs/pinecone-quickstart.ipynb) [![Open nbviewer](https://raw.githubusercontent.com/pinecone-io/examples/master/assets/nbviewer-shield.svg)](https://nbviewer.org/github/pinecone-io/examples/blob/master/docs/pinecone-quickstart.ipynb)\n",
        "\n",
        "# Pinecone Database quickstart\n",
        "\n",
        "This notebook shows you how to set up and use Pinecone Database for high-performance similarity search."
      ]
    },
    {
      "cell_type": "markdown",
      "metadata": {
        "id": "mjJUDk6xAA_r"
      },
      "source": [
        "## Install an SDK\n",
        "\n",
        "Pinecone provides [SDKs](https://docs.pinecone.io/reference/pinecone-sdks) in multiple languages.\n",
        "\n",
        "For this quickstart, install the Python SDK and a library that makes it easy to sign up with Pinecone:"
      ]
    },
    {
      "cell_type": "code",
      "execution_count": 8,
      "metadata": {
        "id": "4SudLike98WL"
      },
      "outputs": [],
      "source": [
        "!pip install -qU \\\n",
        "    pinecone \\\n",
        "    pinecone-notebooks"
      ]
    },
    {
      "cell_type": "markdown",
      "metadata": {
        "id": "WoDXUiIkD1U7"
      },
      "source": [
        "## Get an API key\n",
        "\n",
        "You need an API key to make calls to your Pinecone project.\n",
        "\n",
        "Use the widget below to generate a key. If you don't have a Pinecone account, the widget will sign you up for the free Starter plan."
      ]
    },
    {
      "cell_type": "code",
      "execution_count": 9,
      "metadata": {
        "colab": {
          "base_uri": "https://localhost:8080/",
          "height": 247
        },
        "id": "89S8G8oP61-t",
        "outputId": "290c5c45-45d5-4b75-9184-92e05ba4e0f9"
      },
      "outputs": [
        {
          "output_type": "display_data",
          "data": {
            "text/plain": [
              "<IPython.core.display.HTML object>"
            ],
            "text/html": [
              "<script type=\"text/javascript\" src=\"https://connect.pinecone.io/embed.js\"></script>"
            ]
          },
          "metadata": {}
        }
      ],
      "source": [
        "import os\n",
        "\n",
        "if not os.environ.get(\"pcsk_71qQmY_***********\"):\n",
        "    from pinecone_notebooks.colab import Authenticate\n",
        "    Authenticate()"
      ]
    },
    {
      "cell_type": "markdown",
      "metadata": {
        "id": "sbJFp5DO5ryT"
      },
      "source": [
        "## Initialize a client\n",
        "\n",
        "Use the generated API key to intialize a client connection to Pinecone:"
      ]
    },
    {
      "cell_type": "code",
      "execution_count": 10,
      "metadata": {
        "id": "e9rr_u6ZIvZ-"
      },
      "outputs": [],
      "source": [
        "from pinecone import Pinecone, ServerlessSpec\n",
        "\n",
        "api_key = \"pcsk_71qQmY_***********\"\n",
        "\n",
        "\n",
        "\n",
        ""
      ]
    },
    {
      "cell_type": "markdown",
      "metadata": {
        "id": "bN9Rl7GP258C"
      },
      "source": [
        "## Generate vectors\n",
        "\n",
        "A [vector embedding](https://www.pinecone.io/learn/vector-embeddings/) is a numerical representation of data that enables similarity-based search in vector databases like Pinecone. To convert data into this format, you use an embedding model.\n",
        "\n",
        "For this quickstart, use the [`multilingual-e5-large`](https://docs.pinecone.io/models/multilingual-e5-large) embedding model hosted by Pinecone to [convert](https://docs.pinecone.io/guides/inference/generate-embeddings) four sentences about apples into vectors, three related to health, one related to cultivation."
      ]
    },
    {
      "cell_type": "code",
      "execution_count": 11,
      "metadata": {
        "id": "ZIclo2UK3NFE"
      },
      "outputs": [],
      "source": [
        "\n",
        "api_key = \"pcsk_71qQmY_***********\"\n",
        "\n",
        "\n",
        "\n"
      ]
    },
    {
      "cell_type": "markdown",
      "metadata": {
        "id": "VpgIIsLlJGFf"
      },
      "source": [
        "## Create an index\n",
        "\n",
        "In Pinecone, you store data in an [index](https://docs.pinecone.io/guides/indexes/understanding-indexes).\n",
        "\n",
        "Create a serverless index that matches the dimension (`1024`) and similarity metric (`cosine`) of the `multilingual-e5-large` model you used in the previous step, and choose a [cloud and region](https://docs.pinecone.io/guides/indexes/understanding-indexes#cloud-regions) for hosting the index:"
      ]
    },
    {
      "cell_type": "code",
      "execution_count": 12,
      "metadata": {
        "id": "Buo2K1h8O_fN"
      },
      "outputs": [],
      "source": [
        "index_name = \"dense-index\""
      ]
    },
    {
      "cell_type": "code",
      "execution_count": 36,
      "metadata": {
        "id": "MaqbcsI4I1gU"
      },
      "outputs": [],
      "source": [
        "\n",
        "import os\n",
        "import time\n",
        "from pinecone import Pinecone, ServerlessSpec\n",
        "\n",
        "pc = Pinecone(\n",
        "        api_key=os.environ.get(\"pcsk_2ERwVD_***********\")\n",
        "    )\n",
        "\n",
        "\n",
        "if index_name not in pc.list_indexes().names():\n",
        "  spec = ServerlessSpec(cloud=\"aws\", region=\"us-east-1\")\n",
        "  pc.create_index(\n",
        "        index_name,\n",
        "        dimension=1536, # dimensionality of text-embedding-ada-002\n",
        "        metric='cosine',\n",
        "        spec=spec # Ensure 'spec' is defined appropriately before this line\n",
        "    )\n",
        "\n",
        "  time.sleep(1)\n",
        "\n",
        "\n",
        "\n",
        "\n",
        "\n"
      ]
    },
    {
      "cell_type": "markdown",
      "metadata": {
        "id": "tNAgla6IKWie"
      },
      "source": [
        "## Upsert vectors\n",
        "\n",
        "Target your index and use the [`upsert`](https://docs.pinecone.io/guides/data/upsert-data) operation to load your vector embeddings into a new namespace.\n",
        "\n",
        "**Note:** [Namespaces](https://docs.pinecone.io/guides/get-started/key-features#namespaces) let you partition records within an index and are essential for [implementing multitenancy](https://docs.pinecone.io/guides/get-started/implement-multitenancy) when you need to isolate the data of each customer/user.\n"
      ]
    },
    {
      "cell_type": "code",
      "execution_count": 43,
      "metadata": {
        "id": "Ri6RX7FEiV4C"
      },
      "outputs": [],
      "source": [
        "\n",
        "import os\n",
        "import time\n",
        "from pinecone import Pinecone, ServerlessSpec\n",
        "\n",
        "pc = Pinecone(\n",
        "    api_key=os.environ.get(\"pcsk_2ERwVD_***********\")\n",
        ")\n",
        "\n",
        "index_name = \"dense-index\"\n",
        "\n",
        "if index_name not in pc.list_indexes().names():\n",
        "    # Create a serverless index with integrated inference and sparse values enabled.\n",
        "    spec = ServerlessSpec(cloud=\"aws\", region=\"us-east-1\", sparse_values_enabled=True, inference_config={\"pod_type\": \"p1\"})\n",
        "    pc.create_index(\n",
        "        index_name,\n",
        "        dimension=1536,\n",
        "        metric=\"cosine\",\n",
        "        spec=spec\n",
        "    )\n",
        "    time.sleep(1)"
      ]
    },
    {
      "cell_type": "markdown",
      "metadata": {
        "id": "fqVA4OrlidX2"
      },
      "source": [
        "**Note:** To load large amounts of data, [import from object storage](https://docs.pinecone.io/guides/data/understanding-imports) or [upsert in large batches](https://docs.pinecone.io/guides/data/upsert-data#upsert-records-in-batches)."
      ]
    },
    {
      "cell_type": "markdown",
      "metadata": {
        "id": "AsVqrR2YipPM"
      },
      "source": [
        "## Check the index\n",
        "\n",
        "Pinecone is eventually consistent, so there can be a delay before your upserted vectors are available to query. Use the [`describe_index_stats`](https://docs.pinecone.io/guides/data/data-freshness/check-data-freshness) operation to check if the current vector count matches the number of vectors you upserted:"
      ]
    },
    {
      "cell_type": "code",
      "execution_count": 44,
      "metadata": {
        "id": "ANfVNxzDivEY",
        "outputId": "7d915772-45d6-4272-e34f-0f20f3ad17bb",
        "colab": {
          "base_uri": "https://localhost:8080/"
        }
      },
      "outputs": [
        {
          "output_type": "stream",
          "name": "stdout",
          "text": [
            "{'dimension': 1536,\n",
            " 'index_fullness': 0.0,\n",
            " 'metric': 'cosine',\n",
            " 'namespaces': {},\n",
            " 'total_vector_count': 0,\n",
            " 'vector_type': 'dense'}\n"
          ]
        }
      ],
      "source": [
        "time.sleep(10)  # Wait for the upserted vectors to be indexed\n",
        "\n",
        "print(index.describe_index_stats())"
      ]
    },
    {
      "cell_type": "markdown",
      "metadata": {
        "id": "6cNHN6_xjYm-"
      },
      "source": [
        "## Search the index\n",
        "\n",
        "Now, let’s say you want to search your index for information related to \"health risks\".\n",
        "\n",
        "Use the the `multilingual-e5-large` model hosted by Pinecone *to* convert your query into a vector embedding, and then use the [`query`](https://docs.pinecone.io/guides/data/query-data) operation to search for the three vectors in the index that are most semantically similar to the query vector:"
      ]
    },
    {
      "cell_type": "code",
      "execution_count": 45,
      "metadata": {
        "id": "RyP4EQX8jcLn",
        "outputId": "b7cadc36-fdbe-457b-f3f7-100c52c91fa7",
        "colab": {
          "base_uri": "https://localhost:8080/"
        }
      },
      "outputs": [
        {
          "output_type": "stream",
          "name": "stdout",
          "text": [
            "{'matches': [], 'namespace': 'example-namespace', 'usage': {'read_units': 1}}\n"
          ]
        }
      ],
      "source": [
        "# Define your query\n",
        "query = \"Health risks\"\n",
        "\n",
        "# Convert the query into a numerical vector that Pinecone can search with\n",
        "query_embedding = pc.inference.embed(\n",
        "    model=\"multilingual-e5-large\",\n",
        "    inputs=[query],\n",
        "    parameters={\n",
        "        \"input_type\": \"query\"\n",
        "    }\n",
        ")\n",
        "\n",
        "# Search the index for the three most similar vectors\n",
        "results = index.query(\n",
        "    namespace=\"example-namespace\",\n",
        "    vector=query_embedding[0].values,\n",
        "    top_k=3,\n",
        "    include_values=False,\n",
        "    include_metadata=True\n",
        ")\n",
        "\n",
        "print(results)"
      ]
    },
    {
      "cell_type": "markdown",
      "metadata": {
        "id": "9jAJDjSAjsvA"
      },
      "source": [
        "Notice that the response includes only records related to health, not the cultivation of apple."
      ]
    },
    {
      "cell_type": "markdown",
      "metadata": {
        "id": "ayZib8aEUYR_"
      },
      "source": [
        "## Add reranking\n",
        "\n",
        "You can increase the accuracy of your search by reranking results based on their relevance to the query.\n",
        "\n",
        "Use the `rerank` operation and the `bge-reranker-v2-m3` reranking model hosted by Pinecone to rerank the values of the documents.source_text fields:"
      ]
    },
    {
      "cell_type": "code",
      "execution_count": 46,
      "metadata": {
        "id": "SyPG_OmwUjtm",
        "outputId": "239e1c28-53ec-449f-acfa-be5a797ea78d",
        "colab": {
          "base_uri": "https://localhost:8080/"
        }
      },
      "outputs": [
        {
          "output_type": "stream",
          "name": "stdout",
          "text": [
            "RerankResult(\n",
            "  model='bge-reranker-v2-m3',\n",
            "  data=[{\n",
            "    index=0,\n",
            "    score=0.13683891,\n",
            "    document={\n",
            "        id='rec3',\n",
            "        source_text='Rich in vitamin C and other antioxidants, apples contribute to immune health and may reduce the risk of chronic diseases.'\n",
            "    }\n",
            "  },{\n",
            "    index=1,\n",
            "    score=0.0023596608,\n",
            "    document={\n",
            "        id='rec1',\n",
            "        source_text='Apples are a great source of dietary fiber, which supports digestion and helps maintain a healthy gut.'\n",
            "    }\n",
            "  },{\n",
            "    index=2,\n",
            "    score=0.00084264233,\n",
            "    document={\n",
            "        id='rec4',\n",
            "        source_text='The high fiber content in apples can also help regulate blood sugar levels, making them a favorable snack for people with diabetes.'\n",
            "    }\n",
            "  }],\n",
            "  usage={'rerank_units': 1}\n",
            ")\n"
          ]
        }
      ],
      "source": [
        "# Rerank the search results based on their relevance to the query\n",
        "ranked_results = pc.inference.rerank(\n",
        "    model=\"bge-reranker-v2-m3\",\n",
        "    query=\"Disease prevention\",\n",
        "    documents=[\n",
        "        {\"id\": \"rec3\", \"source_text\": \"Rich in vitamin C and other antioxidants, apples contribute to immune health and may reduce the risk of chronic diseases.\"},\n",
        "        {\"id\": \"rec1\", \"source_text\": \"Apples are a great source of dietary fiber, which supports digestion and helps maintain a healthy gut.\"},\n",
        "        {\"id\": \"rec4\", \"source_text\": \"The high fiber content in apples can also help regulate blood sugar levels, making them a favorable snack for people with diabetes.\"}\n",
        "    ],\n",
        "    top_n=3,\n",
        "    rank_fields=[\"source_text\"],\n",
        "    return_documents=True,\n",
        "    parameters={\n",
        "        \"truncate\": \"END\"\n",
        "    }\n",
        ")\n",
        "\n",
        "print(ranked_results)\n"
      ]
    },
    {
      "cell_type": "markdown",
      "metadata": {
        "id": "QTkhBFJHUnj0"
      },
      "source": [
        "Notice that the two records specifically related to \"health risks\" (chronic disease and diabetes) are now ranked highest."
      ]
    },
    {
      "cell_type": "markdown",
      "metadata": {
        "id": "nGjpffT5UrrL"
      },
      "source": [
        "## Add filtering\n",
        "\n",
        "You can use a [metadata filter](https://docs.pinecone.io/guides/data/understanding-metadata) to limit your search to records matching a filter expression.\n",
        "\n",
        "Your upserted records contain a `category` metadata field. Now use that field as a filter to search for records in the “digestive system” category:"
      ]
    },
    {
      "cell_type": "code",
      "execution_count": 47,
      "metadata": {
        "id": "KkH7Wre3Ux5B",
        "outputId": "4f25aa0c-8051-40dd-eba2-2a109c1d0949",
        "colab": {
          "base_uri": "https://localhost:8080/"
        }
      },
      "outputs": [
        {
          "output_type": "stream",
          "name": "stdout",
          "text": [
            "{'matches': [], 'namespace': 'example-namespace', 'usage': {'read_units': 1}}\n"
          ]
        }
      ],
      "source": [
        "# Search the index with a metadata filter\n",
        "filtered_results = index.query(\n",
        "    namespace=\"example-namespace\",\n",
        "    vector=query_embedding.data[0].values,\n",
        "    filter={\n",
        "        \"category\": {\"$eq\": \"digestive system\"}\n",
        "    },\n",
        "    top_k=3,\n",
        "    include_values=False,\n",
        "    include_metadata=True\n",
        ")\n",
        "\n",
        "print(filtered_results)"
      ]
    },
    {
      "cell_type": "markdown",
      "metadata": {
        "id": "awumy10tU2Lv"
      },
      "source": [
        "Notice that the response includes only the one record in the “digestive system” category."
      ]
    },
    {
      "cell_type": "markdown",
      "metadata": {
        "id": "DavgcphWjwWw"
      },
      "source": [
        "## Clean up\n",
        "\n",
        "When you no longer need the `docs-quickstart-notebook` index, use the [`delete_index`](https://docs.pinecone.io/reference/api/control-plane/delete_index) operation to delete it:"
      ]
    },
    {
      "cell_type": "code",
      "execution_count": 48,
      "metadata": {
        "id": "1iHV2Y0ujy0y"
      },
      "outputs": [],
      "source": [
        "pc.delete_index(index_name)"
      ]
    },
    {
      "cell_type": "markdown",
      "metadata": {
        "id": "mjMxELwjkBDj"
      },
      "source": [
        "After you delete an index, you cannot use it again or recover it."
      ]
    }
  ],
  "metadata": {
    "colab": {
      "provenance": [],
      "include_colab_link": true
    },
    "kernelspec": {
      "display_name": "Python 3",
      "name": "python3"
    },
    "language_info": {
      "name": "python"
    }
  },
  "nbformat": 4,
  "nbformat_minor": 0
}